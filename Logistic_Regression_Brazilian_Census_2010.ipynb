{
 "cells": [
  {
   "cell_type": "markdown",
   "metadata": {},
   "source": [
    "# Logistic Regression on 2010 Brazilian Census Data\n",
    "\n",
    "## What is Logistic Regression?\n",
    "\n",
    "Logistic regression is a statistical model used mainly in binary classification, although it can be used for multiclass classification.\n",
    "\n",
    "It's a predictive model that results in a binary dependent variable that can assume only two possible values. Logistic regression differs from linear regression by using logistic function rather than a linear function to rank the results.  There are several advantage of using this function: it brings more robustness to the results, since the independent variables don’t have to be normally distributed, or have equal variance in each group, and also bring clarity on classification, since logistic function is much more sensitive in data close to the border value and much less sensitive in values far from the border, causing it to generate binary results with greater reliability.\n",
    "\n",
    "Logistic function can be written as $$g(z) = \\frac{1}{1+e^{-z}}$$ and its graph can be shown below:\n",
    "\n"
   ]
  },
  {
   "cell_type": "code",
   "execution_count": 2,
   "metadata": {},
   "outputs": [
    {
     "data": {
      "image/png": "[encoded data removed]",
      "text/plain": [
       "<Figure size 432x288 with 1 Axes>"
      ]
     },
     "metadata": {
      "needs_background": "light"
     },
     "output_type": "display_data"
    }
   ],
   "source": [
    "import math\n",
    "import matplotlib.pyplot as plt\n",
    "%matplotlib inline\n",
    "import numpy as np\n",
    "\n",
    "def sigmoid(x):\n",
    "    a = []\n",
    "    for item in x:\n",
    "        a.append(1/(1+math.exp(-item)))\n",
    "    return a\n",
    "\n",
    "x = np.arange(-10., 10., 0.2)\n",
    "sig = sigmoid(x)\n",
    "plt.plot(x,sig)\n",
    "plt.show()"
   ]
  },
  {
   "cell_type": "markdown",
   "metadata": {},
   "source": [
    "Since linear regression has the formula $$h_\\theta(X) = \\theta^TX$$ where $\\theta^TX = \\theta_0 + \\theta_1 X_1 + \\theta_2 X_2 + ... + \\theta_n x_n$, we just need to generalize it in order to be used as logistic regression:\n",
    "\n",
    "$$h_\\theta(X) = g(\\theta^TX)$$\n",
    "\n",
    "Yielding:\n",
    "\n",
    "$$h_\\theta(X) = \\frac{1}{1 + e^{-\\theta^TX}}$$\n",
    "\n",
    "So, how can this model be used on machine learning? It can be used to make predictions using a set of samples that will train a logistic regression classifier. When this classifier is trained, it's use is very straightforward. So, let's see an use case from 2010 brazilian census.\n",
    "\n",
    "## Hands on!\n",
    "\n",
    "In this case, we will train a classifier in order to predict if the income over or under the median based on following characteristics: quantity of rooms, quantity of bathrooms, presence of sewer, presence of tap water, kind of garbage collection, kind of electric network, presence of washing machine, presence of refrigerator, kind of habitation and adequation of habitation. These will be used to predict the family net income.\n",
    "\n",
    "First we load data from IBGE (Brazilian Institute of Geography and Statistics) site and remove undesired fields. The data set is in fixed width format and it's dictionary can be downloaded at ftp://ftp.ibge.gov.br/Censos/Censo_Demografico_2010/Resultados_Gerais_da_Amostra/Microdados/Documentacao.zip . For this case, we will only use data from São Paulo state:"
   ]
  },
  {
   "cell_type": "code",
   "execution_count": 3,
   "metadata": {},
   "outputs": [
    {
     "data": {
      "application/vnd.jupyter.widget-view+json": {
       "model_id": "79f83e0a6b5e42e0b3b20b06bab4c113",
       "version_major": 2,
       "version_minor": 0
      },
      "text/plain": [
       "HTML(value='', placeholder='')"
      ]
     },
     "metadata": {},
     "output_type": "display_data"
    }
   ],
   "source": [
    "import pandas as pd\n",
    "import ftplib\n",
    "import zipfile\n",
    "from IPython.display import display\n",
    "import ipywidgets as widgets\n",
    "\n",
    "out = widgets.HTML(value='',\n",
    "    placeholder='',\n",
    "    description='')\n",
    "display(out)\n",
    "\n",
    "col_names = ['a1', 'a2', 'a3', 'a4', 'a5', 'a6', 'a7', 'a8', 'a9', 'a10', \n",
    "             'a11', 'a12', 'a13', 'a14', 'a15', 'a16', 'qtyrooms', 'a18', 'a19', 'a20', \n",
    "             'qtybath', 'a22', 'sewer', 'waterpipes', 'a25', 'trash', 'electricity', 'a28', 'a29', 'a30', \n",
    "             'washmachine', 'refrigerator', 'a33', 'a34', 'a35', 'a36', 'a37', 'car', 'a39', 'a40', \n",
    "             'a41', 'a42', 'familynetincome', 'a44', 'a45', 'a46', 'kindhabitation', 'a48', 'adequation', 'a50', \n",
    "             'a51', 'a52', 'a53', 'a54', 'a55', 'a56', 'a57', 'a58', 'a59', 'a60', \n",
    "             'a61', 'a62', 'a63', 'a64', 'a65', 'a66', 'a67', 'a68', 'a69', 'a70', \n",
    "             'a71', 'a72', 'a73', 'a74', 'a75', 'a76', 'a77', 'a78']\n",
    "\n",
    "col_widths = [2, 5, 13, 8, 16, 1, 2, 3, 2, 1, 2, 2, 1, 6, 9, 1, \n",
    "              2, 3, 2, 3, 1, 1, 1, 2, 1, 1, 1, 1, 1, 1, 1, 1, 1, \n",
    "              1, 1, 1, 1, 1, 1, 2, 1, 1, 7, 10, 8, 9, 1, 1, 1, 1, \n",
    "              1, 1, 1, 1, 1, 1, 1, 1, 1, 1, 1, 1, 1, 1, 1, 1, 1, 1, \n",
    "              1, 1, 1, 1, 1, 1, 1, 1]\n",
    "\n",
    "\n",
    "#downloading file\n",
    "out.value = \"Downloading file...\"\n",
    "ftp = ftplib.FTP(\"ftp.ibge.gov.br\")\n",
    "ftp.login(\"\", \"\") \n",
    "ftp.cwd(\"/Censos/Censo_Demografico_2010/Resultados_Gerais_da_Amostra/Microdados\")\n",
    "ftp.retrbinary(\"RETR SP1.zip\", open(\"/tmp/SP1.zip\", 'wb').write)\n",
    "\n",
    "out.value = \"Extracting file...\"\n",
    "zip_ref = zipfile.ZipFile(\"/tmp/SP1.zip\", 'r')\n",
    "zip_ref.extractall(\"/tmp\")\n",
    "zip_ref.close()\n",
    "\n",
    "out.value = \"Done.\""
   ]
  },
  {
   "cell_type": "code",
   "execution_count": 4,
   "metadata": {},
   "outputs": [],
   "source": [
    "# read into dataframe\n",
    "tmp = pd.read_fwf('/tmp/SP1/Amostra_Domicilios_35_outras.txt', widths=col_widths, names=col_names)\n",
    "df = tmp[['qtyrooms', 'qtybath', 'sewer', 'waterpipes', 'trash', 'electricity', \n",
    "          'washmachine', 'refrigerator', 'familynetincome', 'kindhabitation', 'adequation']].copy()\n",
    "\n",
    "del tmp"
   ]
  },
  {
   "cell_type": "code",
   "execution_count": 5,
   "metadata": {},
   "outputs": [],
   "source": [
    "df.dropna(inplace=True)\n",
    "df['qtyrooms'] = df['qtyrooms'].astype(int)\n",
    "df['qtybath'] = df['qtybath'].astype(int)\n",
    "df['sewer'] = df['sewer'].astype(int)\n",
    "df['waterpipes'] = df['waterpipes'].astype(int)\n",
    "df['trash'] = df['trash'].astype(int)\n",
    "df['electricity'] = df['electricity'].astype(int)\n",
    "df['washmachine'] = df['washmachine'].astype(int)\n",
    "df['refrigerator'] = df['refrigerator'].astype(int)\n",
    "df['familynetincome'] = df['familynetincome'].astype(int)\n",
    "df['kindhabitation'] = df['kindhabitation'].astype(int)\n",
    "df['adequation'] = df['adequation'].astype(int)"
   ]
  },
  {
   "cell_type": "markdown",
   "metadata": {},
   "source": [
    "So now we can have a glance of the data:"
   ]
  },
  {
   "cell_type": "code",
   "execution_count": 6,
   "metadata": {},
   "outputs": [
    {
     "data": {
      "text/html": [
       "<div>\n",
       "<style scoped>\n",
       "    .dataframe tbody tr th:only-of-type {\n",
       "        vertical-align: middle;\n",
       "    }\n",
       "\n",
       "    .dataframe tbody tr th {\n",
       "        vertical-align: top;\n",
       "    }\n",
       "\n",
       "    .dataframe thead th {\n",
       "        text-align: right;\n",
       "    }\n",
       "</style>\n",
       "<table border=\"1\" class=\"dataframe\">\n",
       "  <thead>\n",
       "    <tr style=\"text-align: right;\">\n",
       "      <th></th>\n",
       "      <th>qtyrooms</th>\n",
       "      <th>qtybath</th>\n",
       "      <th>sewer</th>\n",
       "      <th>waterpipes</th>\n",
       "      <th>trash</th>\n",
       "      <th>electricity</th>\n",
       "      <th>washmachine</th>\n",
       "      <th>refrigerator</th>\n",
       "      <th>familynetincome</th>\n",
       "      <th>kindhabitation</th>\n",
       "      <th>adequation</th>\n",
       "    </tr>\n",
       "  </thead>\n",
       "  <tbody>\n",
       "    <tr>\n",
       "      <th>0</th>\n",
       "      <td>5</td>\n",
       "      <td>1</td>\n",
       "      <td>1</td>\n",
       "      <td>1</td>\n",
       "      <td>1</td>\n",
       "      <td>1</td>\n",
       "      <td>2</td>\n",
       "      <td>1</td>\n",
       "      <td>510</td>\n",
       "      <td>1</td>\n",
       "      <td>2</td>\n",
       "    </tr>\n",
       "    <tr>\n",
       "      <th>1</th>\n",
       "      <td>5</td>\n",
       "      <td>1</td>\n",
       "      <td>1</td>\n",
       "      <td>1</td>\n",
       "      <td>1</td>\n",
       "      <td>1</td>\n",
       "      <td>1</td>\n",
       "      <td>1</td>\n",
       "      <td>1900</td>\n",
       "      <td>2</td>\n",
       "      <td>2</td>\n",
       "    </tr>\n",
       "    <tr>\n",
       "      <th>2</th>\n",
       "      <td>5</td>\n",
       "      <td>1</td>\n",
       "      <td>1</td>\n",
       "      <td>1</td>\n",
       "      <td>1</td>\n",
       "      <td>1</td>\n",
       "      <td>2</td>\n",
       "      <td>1</td>\n",
       "      <td>1020</td>\n",
       "      <td>2</td>\n",
       "      <td>2</td>\n",
       "    </tr>\n",
       "    <tr>\n",
       "      <th>3</th>\n",
       "      <td>4</td>\n",
       "      <td>1</td>\n",
       "      <td>1</td>\n",
       "      <td>1</td>\n",
       "      <td>1</td>\n",
       "      <td>1</td>\n",
       "      <td>2</td>\n",
       "      <td>1</td>\n",
       "      <td>68</td>\n",
       "      <td>3</td>\n",
       "      <td>2</td>\n",
       "    </tr>\n",
       "    <tr>\n",
       "      <th>4</th>\n",
       "      <td>10</td>\n",
       "      <td>3</td>\n",
       "      <td>1</td>\n",
       "      <td>1</td>\n",
       "      <td>1</td>\n",
       "      <td>1</td>\n",
       "      <td>1</td>\n",
       "      <td>1</td>\n",
       "      <td>3758</td>\n",
       "      <td>2</td>\n",
       "      <td>2</td>\n",
       "    </tr>\n",
       "  </tbody>\n",
       "</table>\n",
       "</div>"
      ],
      "text/plain": [
       "   qtyrooms  qtybath  sewer  waterpipes  trash  electricity  washmachine  \\\n",
       "0         5        1      1           1      1            1            2   \n",
       "1         5        1      1           1      1            1            1   \n",
       "2         5        1      1           1      1            1            2   \n",
       "3         4        1      1           1      1            1            2   \n",
       "4        10        3      1           1      1            1            1   \n",
       "\n",
       "   refrigerator  familynetincome  kindhabitation  adequation  \n",
       "0             1              510               1           2  \n",
       "1             1             1900               2           2  \n",
       "2             1             1020               2           2  \n",
       "3             1               68               3           2  \n",
       "4             1             3758               2           2  "
      ]
     },
     "execution_count": 6,
     "metadata": {},
     "output_type": "execute_result"
    }
   ],
   "source": [
    "df.head()"
   ]
  },
  {
   "cell_type": "markdown",
   "metadata": {},
   "source": [
    "Let's see what is the value of the median of family net income. For the sake of this study, we will set all values equal or above median to 1 and below median to 0:"
   ]
  },
  {
   "cell_type": "code",
   "execution_count": 7,
   "metadata": {},
   "outputs": [
    {
     "data": {
      "text/plain": [
       "1703.0"
      ]
     },
     "execution_count": 7,
     "metadata": {},
     "output_type": "execute_result"
    }
   ],
   "source": [
    "median = df.familynetincome.median()\n",
    "median"
   ]
  },
  {
   "cell_type": "code",
   "execution_count": 8,
   "metadata": {},
   "outputs": [],
   "source": [
    "df.loc[df['familynetincome'] < median, 'familynetincome'] = 0\n",
    "df.loc[df['familynetincome'] >= median, 'familynetincome'] = 1"
   ]
  },
  {
   "cell_type": "markdown",
   "metadata": {},
   "source": [
    "Now, let's separate all independent variables from the dependent, and let's train the classifier:"
   ]
  },
  {
   "cell_type": "code",
   "execution_count": 9,
   "metadata": {},
   "outputs": [],
   "source": [
    "import numpy as np\n",
    "from sklearn import linear_model"
   ]
  },
  {
   "cell_type": "code",
   "execution_count": 10,
   "metadata": {},
   "outputs": [],
   "source": [
    "X = df[['qtyrooms', 'qtybath', 'sewer', 'waterpipes', 'trash', 'electricity', \n",
    "          'washmachine', 'refrigerator', 'kindhabitation', 'adequation']]\n",
    "y = df['familynetincome']"
   ]
  },
  {
   "cell_type": "code",
   "execution_count": 11,
   "metadata": {},
   "outputs": [],
   "source": [
    "clf = linear_model.LogisticRegression(C=1e40, solver='newton-cg')\n",
    "fitted_model = clf.fit(X, y)"
   ]
  },
  {
   "cell_type": "markdown",
   "metadata": {},
   "source": [
    "Pretty straightforward, huh?\n",
    "\n",
    "So now we can use this trained classifier to predict if the income is above or below median:"
   ]
  },
  {
   "cell_type": "code",
   "execution_count": 12,
   "metadata": {},
   "outputs": [
    {
     "data": {
      "text/plain": [
       "array([1])"
      ]
     },
     "execution_count": 12,
     "metadata": {},
     "output_type": "execute_result"
    }
   ],
   "source": [
    "prediction_result = clf.predict([(10, 3, 1, 1, 1, 1, 1, 1, 2, 2)])\n",
    "prediction_result"
   ]
  },
  {
   "cell_type": "code",
   "execution_count": 13,
   "metadata": {},
   "outputs": [
    {
     "data": {
      "text/plain": [
       "array([0])"
      ]
     },
     "execution_count": 13,
     "metadata": {},
     "output_type": "execute_result"
    }
   ],
   "source": [
    "prediction_result = clf.predict([(4, 1, 1, 1, 1, 1, 2, 1, 3, 2)])\n",
    "prediction_result"
   ]
  },
  {
   "cell_type": "markdown",
   "metadata": {},
   "source": [
    "\n",
    "Do you remember that, for logistic regression, we need to get $\\theta$ in order to compute it on $h_\\theta(X) = g(\\theta^TX)$, right? So, if you want to read values for $\\theta$, you just need to do the following:"
   ]
  },
  {
   "cell_type": "code",
   "execution_count": 14,
   "metadata": {},
   "outputs": [
    {
     "name": "stdout",
     "output_type": "stream",
     "text": [
      "[-4.40468002]\n"
     ]
    }
   ],
   "source": [
    "# For theta_0:\n",
    "\n",
    "print(fitted_model.intercept_)"
   ]
  },
  {
   "cell_type": "code",
   "execution_count": 26,
   "metadata": {},
   "outputs": [
    {
     "name": "stdout",
     "output_type": "stream",
     "text": [
      "[[ 0.2286218   0.43581317 -0.22098449 -0.11330352 -0.05717134 -0.20821814\n",
      "  -1.09090793 -0.85579353  0.69167597  2.05417498]]\n"
     ]
    }
   ],
   "source": [
    "# For theta_1 to theta_10, in this case:\n",
    "\n",
    "print(fitted_model.coef_)"
   ]
  },
  {
   "cell_type": "markdown",
   "metadata": {},
   "source": [
    "So, if you want to directly compute it from above $\\theta$ values, we just need to first compute the dot product between $\\theta$ and $X$ arrays and then feed the result to $g(z)$ function. Let's do it for values shown above:"
   ]
  },
  {
   "cell_type": "code",
   "execution_count": 31,
   "metadata": {},
   "outputs": [
    {
     "data": {
      "text/plain": [
       "array([-0.50828866])"
      ]
     },
     "execution_count": 31,
     "metadata": {},
     "output_type": "execute_result"
    }
   ],
   "source": [
    "res = fitted_model.intercept_ + np.dot(fitted_model.coef_,[4, 1, 1, 1, 1, 1, 2, 1, 3, 2])\n",
    "res"
   ]
  },
  {
   "cell_type": "code",
   "execution_count": 32,
   "metadata": {},
   "outputs": [
    {
     "data": {
      "text/plain": [
       "0.37559478970025234"
      ]
     },
     "execution_count": 32,
     "metadata": {},
     "output_type": "execute_result"
    }
   ],
   "source": [
    "1 / (1 + math.exp(-res))"
   ]
  },
  {
   "cell_type": "markdown",
   "metadata": {},
   "source": [
    "Since the result is below $0.5$, the result goes to $0$.\n",
    "\n",
    "Let's make same calculations for another $X$ array above:"
   ]
  },
  {
   "cell_type": "code",
   "execution_count": 33,
   "metadata": {},
   "outputs": [
    {
     "data": {
      "text/plain": [
       "array([2.13430044])"
      ]
     },
     "execution_count": 33,
     "metadata": {},
     "output_type": "execute_result"
    }
   ],
   "source": [
    "res = fitted_model.intercept_ + np.dot(fitted_model.coef_,[10, 3, 1, 1, 1, 1, 1, 1, 2, 2])\n",
    "res"
   ]
  },
  {
   "cell_type": "code",
   "execution_count": 34,
   "metadata": {},
   "outputs": [
    {
     "data": {
      "text/plain": [
       "0.8941925729153888"
      ]
     },
     "execution_count": 34,
     "metadata": {},
     "output_type": "execute_result"
    }
   ],
   "source": [
    "1 / (1 + math.exp(-res))"
   ]
  },
  {
   "cell_type": "markdown",
   "metadata": {},
   "source": [
    "Since the value is above $0.5$, result goes to $1$.\n",
    "\n",
    "## Conclusion:\n",
    "\n",
    "Logistic Regression is a very fast and robust way to estimate in which group a individual pertains, just looking for some features. Sklearn provides a way to do it quickly over a big set of individuals.\n",
    "\n",
    "Beyound this simple application on census data, logistic regression can be used to predict churns, failures on networks, telemarketing conversion rates, and so on. Possibilities are simply infinite."
   ]
  }
 ],
 "metadata": {
  "kernelspec": {
   "display_name": "Python 3",
   "language": "python",
   "name": "python3"
  },
  "language_info": {
   "codemirror_mode": {
    "name": "ipython",
    "version": 3
   },
   "file_extension": ".py",
   "mimetype": "text/x-python",
   "name": "python",
   "nbconvert_exporter": "python",
   "pygments_lexer": "ipython3",
   "version": "3.6.7"
  }
 },
 "nbformat": 4,
 "nbformat_minor": 2
}
